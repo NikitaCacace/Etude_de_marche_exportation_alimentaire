{
 "cells": [
  {
   "cell_type": "markdown",
   "metadata": {},
   "source": [
    "Import des librairies et données nécessaires à l'étude:\n",
    "==="
   ]
  },
  {
   "cell_type": "code",
   "execution_count": 2,
   "metadata": {},
   "outputs": [],
   "source": [
    "# Librairies de calcul:\n",
    "import pandas as pd\n",
    "import numpy as np\n",
    "\n",
    "# Options globales pour l'output display:\n",
    "pd.options.display.float_format = \"{:.2f}\".format\n",
    "\n",
    "# Import des donnees:\n",
    "Dispo_Alim_df = pd.read_csv(\"DisponibiliteAlimentaire_2017.csv\")\n",
    "Pop_df = pd.read_csv(\"Population_2000_2018.csv\")\n",
    "Pib_df = pd.read_csv(\"PIB_2017.csv\")\n",
    "Prot_df = pd.read_csv(\"Protein_df.csv\")\n",
    "Code_Pays_df = pd.read_csv(\"codes_pays.csv\")"
   ]
  },
  {
   "cell_type": "code",
   "execution_count": 3,
   "metadata": {},
   "outputs": [],
   "source": [
    "# Renommage des colonnes:\n",
    "Dispo_Alim_df = Dispo_Alim_df.rename(columns = {\n",
    "    \"Code Domaine\":          \"c_domain\",\n",
    "    \"Domaine\":               \"domain\",\n",
    "    \"Code zone\":             \"c_zone\",\n",
    "    \"Zone\":                  \"zone\",\n",
    "    \"Code Élément\":          \"c_element\",\n",
    "    \"Élément\":               \"element\",\n",
    "    \"Code Produit\":          \"c_prod\",\n",
    "    \"Produit\":               \"prod\",\n",
    "    \"Code année\":            \"c_year\",\n",
    "    \"Année\":                 \"year\",\n",
    "    \"Unité\":                 \"unit\",\n",
    "    \"Valeur\":                \"value\",\n",
    "    \"Symbole\":               \"symb\",\n",
    "    \"Description du Symbole\":\"symb_description\"\n",
    "})\n",
    "\n",
    "Pop_df = Pop_df.rename(columns = {\n",
    "    \"Code Domaine\":          \"c_domain\",\n",
    "    \"Domaine\":               \"domain\",\n",
    "    \"Code zone\":             \"c_zone\",\n",
    "    \"Zone\":                  \"zone\",\n",
    "    \"Code Élément\":          \"c_element\",\n",
    "    \"Élément\":               \"element\",\n",
    "    \"Code Produit\":          \"c_prod\",\n",
    "    \"Produit\":               \"prod\",\n",
    "    \"Code année\":            \"c_year\",\n",
    "    \"Année\":                 \"year\",\n",
    "    \"Unité\":                 \"unit\",\n",
    "    \"Valeur\":                \"pop\",\n",
    "    \"Symbole\":               \"symb\",\n",
    "    \"Description du Symbole\":\"symb_description\",\n",
    "    \"Note\":                  \"note\"\n",
    "})\n",
    "\n",
    "Pib_df = Pib_df.rename(columns = {\n",
    "    \"Code Domaine\":          \"c_domain\",\n",
    "    \"Domaine\":               \"domain\",\n",
    "    \"Code zone (FAO)\":       \"c_zone\",\n",
    "    \"Zone\":                  \"zone\",\n",
    "    \"Code Élément\":          \"c_element\",\n",
    "    \"Élément\":               \"element\",\n",
    "    \"Code Produit\":          \"c_prod\",\n",
    "    \"Produit\":               \"prod\",\n",
    "    \"Code année\":            \"c_year\",\n",
    "    \"Année\":                 \"year\",\n",
    "    \"Unité\":                 \"unit\",\n",
    "    \"Valeur\":                \"pib/hab\",\n",
    "    \"Symbole\":               \"symb\",\n",
    "    \"Description du Symbole\":\"symb_description\",\n",
    "    \"Note\":                  \"note\"\n",
    "})\n",
    "\n",
    "Prot_df = Prot_df.rename(columns = {\n",
    "    \"Domain Code\":           \"c_domain\",\n",
    "    \"Domain\":                \"domain\",\n",
    "    \"Area Code (FAO)\":       \"c_zone\",\n",
    "    \"Area\":                  \"zone\",\n",
    "    \"Element Code\":          \"c_element\",\n",
    "    \"Element\":               \"element\",\n",
    "    \"Item Code\":             \"c_prod\",\n",
    "    \"Item\":                  \"prod\",\n",
    "    \"Year Code\":             \"c_year\",\n",
    "    \"Year\":                  \"year\",\n",
    "    \"Unit\":                  \"unit\",\n",
    "    \"Value\":                 \"value\",\n",
    "    \"Flag\":                  \"symb\",\n",
    "    \"Flag Description\":      \"symb_description\",\n",
    "    \"Note\":                  \"note\"\n",
    "})\n",
    "\n",
    "Code_Pays_df = Code_Pays_df.rename(columns = {\n",
    "    \"code_pays_fao\":           \"c_zone\",\n",
    "    \"ISO3\":                    \"iso3\"\n",
    "})"
   ]
  },
  {
   "cell_type": "markdown",
   "metadata": {},
   "source": [
    "Observation et nettoyage des Dataframes:\n",
    "==="
   ]
  },
  {
   "cell_type": "markdown",
   "metadata": {},
   "source": [
    "Dispo_Alim_df:\n",
    "---"
   ]
  },
  {
   "cell_type": "code",
   "execution_count": 4,
   "metadata": {},
   "outputs": [
    {
     "name": "stdout",
     "output_type": "stream",
     "text": [
      "<class 'pandas.core.frame.DataFrame'>\n",
      "RangeIndex: 176600 entries, 0 to 176599\n",
      "Data columns (total 14 columns):\n",
      " #   Column            Non-Null Count   Dtype  \n",
      "---  ------            --------------   -----  \n",
      " 0   c_domain          176600 non-null  object \n",
      " 1   domain            176600 non-null  object \n",
      " 2   c_zone            176600 non-null  int64  \n",
      " 3   zone              176600 non-null  object \n",
      " 4   c_element         176600 non-null  int64  \n",
      " 5   element           176600 non-null  object \n",
      " 6   c_prod            176600 non-null  int64  \n",
      " 7   prod              176600 non-null  object \n",
      " 8   c_year            176600 non-null  int64  \n",
      " 9   year              176600 non-null  int64  \n",
      " 10  unit              176600 non-null  object \n",
      " 11  value             176600 non-null  float64\n",
      " 12  symb              176600 non-null  object \n",
      " 13  symb_description  176600 non-null  object \n",
      "dtypes: float64(1), int64(5), object(8)\n",
      "memory usage: 18.9+ MB\n"
     ]
    }
   ],
   "source": [
    "Dispo_Alim_df.info()"
   ]
  },
  {
   "cell_type": "markdown",
   "metadata": {},
   "source": [
    "Il n'y a pas de valeurs nulles dans nos données, les colonnes de type \"code\" devraient être des object et non des int64. L'année pourrait être passée en date/year. Certaines colonnes contiennent des données redondantes et inutiles, on peut les supprimer."
   ]
  },
  {
   "cell_type": "code",
   "execution_count": 5,
   "metadata": {},
   "outputs": [],
   "source": [
    "# Suppression des colonnes inutiles:\n",
    "Dispo_Alim_df = Dispo_Alim_df.drop([\"c_domain\",\"domain\",\"c_year\",\"symb\",\"symb_description\"], axis=1)"
   ]
  },
  {
   "cell_type": "code",
   "execution_count": 6,
   "metadata": {},
   "outputs": [
    {
     "name": "stdout",
     "output_type": "stream",
     "text": [
      "<class 'pandas.core.frame.DataFrame'>\n",
      "RangeIndex: 176600 entries, 0 to 176599\n",
      "Data columns (total 9 columns):\n",
      " #   Column     Non-Null Count   Dtype  \n",
      "---  ------     --------------   -----  \n",
      " 0   c_zone     176600 non-null  object \n",
      " 1   zone       176600 non-null  object \n",
      " 2   c_element  176600 non-null  object \n",
      " 3   element    176600 non-null  object \n",
      " 4   c_prod     176600 non-null  object \n",
      " 5   prod       176600 non-null  object \n",
      " 6   year       176600 non-null  int64  \n",
      " 7   unit       176600 non-null  object \n",
      " 8   value      176600 non-null  float64\n",
      "dtypes: float64(1), int64(1), object(7)\n",
      "memory usage: 12.1+ MB\n"
     ]
    },
    {
     "data": {
      "text/plain": [
       "count   176600.00\n",
       "mean       210.55\n",
       "std       4762.05\n",
       "min     -10388.00\n",
       "25%          0.00\n",
       "50%          0.12\n",
       "75%          8.46\n",
       "max     758548.00\n",
       "Name: value, dtype: float64"
      ]
     },
     "execution_count": 6,
     "metadata": {},
     "output_type": "execute_result"
    }
   ],
   "source": [
    "# Changement de types:\n",
    "Dispo_Alim_df[\"c_zone\"] = Dispo_Alim_df[\"c_zone\"].apply(str)\n",
    "Dispo_Alim_df[\"c_element\"] = Dispo_Alim_df[\"c_element\"].apply(str)\n",
    "Dispo_Alim_df[\"c_prod\"] = Dispo_Alim_df[\"c_prod\"].apply(str)\n",
    "\n",
    "Dispo_Alim_df.info()\n",
    "Dispo_Alim_df[\"value\"].describe()"
   ]
  },
  {
   "cell_type": "markdown",
   "metadata": {},
   "source": [
    "Pop_df:\n",
    "---"
   ]
  },
  {
   "cell_type": "code",
   "execution_count": 7,
   "metadata": {},
   "outputs": [
    {
     "name": "stdout",
     "output_type": "stream",
     "text": [
      "<class 'pandas.core.frame.DataFrame'>\n",
      "RangeIndex: 4411 entries, 0 to 4410\n",
      "Data columns (total 15 columns):\n",
      " #   Column            Non-Null Count  Dtype  \n",
      "---  ------            --------------  -----  \n",
      " 0   c_domain          4411 non-null   object \n",
      " 1   domain            4411 non-null   object \n",
      " 2   c_zone            4411 non-null   int64  \n",
      " 3   zone              4411 non-null   object \n",
      " 4   c_element         4411 non-null   int64  \n",
      " 5   element           4411 non-null   object \n",
      " 6   c_prod            4411 non-null   int64  \n",
      " 7   prod              4411 non-null   object \n",
      " 8   c_year            4411 non-null   int64  \n",
      " 9   year              4411 non-null   int64  \n",
      " 10  unit              4411 non-null   object \n",
      " 11  pop               4411 non-null   float64\n",
      " 12  symb              4411 non-null   object \n",
      " 13  symb_description  4411 non-null   object \n",
      " 14  note              258 non-null    object \n",
      "dtypes: float64(1), int64(5), object(9)\n",
      "memory usage: 517.0+ KB\n"
     ]
    },
    {
     "data": {
      "text/html": [
       "<div>\n",
       "<style scoped>\n",
       "    .dataframe tbody tr th:only-of-type {\n",
       "        vertical-align: middle;\n",
       "    }\n",
       "\n",
       "    .dataframe tbody tr th {\n",
       "        vertical-align: top;\n",
       "    }\n",
       "\n",
       "    .dataframe thead th {\n",
       "        text-align: right;\n",
       "    }\n",
       "</style>\n",
       "<table border=\"1\" class=\"dataframe\">\n",
       "  <thead>\n",
       "    <tr style=\"text-align: right;\">\n",
       "      <th></th>\n",
       "      <th>c_zone</th>\n",
       "      <th>c_element</th>\n",
       "      <th>c_prod</th>\n",
       "      <th>c_year</th>\n",
       "      <th>year</th>\n",
       "      <th>pop</th>\n",
       "    </tr>\n",
       "  </thead>\n",
       "  <tbody>\n",
       "    <tr>\n",
       "      <th>count</th>\n",
       "      <td>4411.00</td>\n",
       "      <td>4411.00</td>\n",
       "      <td>4411.00</td>\n",
       "      <td>4411.00</td>\n",
       "      <td>4411.00</td>\n",
       "      <td>4411.00</td>\n",
       "    </tr>\n",
       "    <tr>\n",
       "      <th>mean</th>\n",
       "      <td>132.20</td>\n",
       "      <td>511.00</td>\n",
       "      <td>3010.00</td>\n",
       "      <td>2009.07</td>\n",
       "      <td>2009.07</td>\n",
       "      <td>29630.04</td>\n",
       "    </tr>\n",
       "    <tr>\n",
       "      <th>std</th>\n",
       "      <td>75.85</td>\n",
       "      <td>0.00</td>\n",
       "      <td>0.00</td>\n",
       "      <td>5.48</td>\n",
       "      <td>5.48</td>\n",
       "      <td>123802.86</td>\n",
       "    </tr>\n",
       "    <tr>\n",
       "      <th>min</th>\n",
       "      <td>1.00</td>\n",
       "      <td>511.00</td>\n",
       "      <td>3010.00</td>\n",
       "      <td>2000.00</td>\n",
       "      <td>2000.00</td>\n",
       "      <td>0.79</td>\n",
       "    </tr>\n",
       "    <tr>\n",
       "      <th>25%</th>\n",
       "      <td>68.00</td>\n",
       "      <td>511.00</td>\n",
       "      <td>3010.00</td>\n",
       "      <td>2004.00</td>\n",
       "      <td>2004.00</td>\n",
       "      <td>392.19</td>\n",
       "    </tr>\n",
       "    <tr>\n",
       "      <th>50%</th>\n",
       "      <td>132.00</td>\n",
       "      <td>511.00</td>\n",
       "      <td>3010.00</td>\n",
       "      <td>2009.00</td>\n",
       "      <td>2009.00</td>\n",
       "      <td>4764.74</td>\n",
       "    </tr>\n",
       "    <tr>\n",
       "      <th>75%</th>\n",
       "      <td>195.00</td>\n",
       "      <td>511.00</td>\n",
       "      <td>3010.00</td>\n",
       "      <td>2014.00</td>\n",
       "      <td>2014.00</td>\n",
       "      <td>18215.48</td>\n",
       "    </tr>\n",
       "    <tr>\n",
       "      <th>max</th>\n",
       "      <td>299.00</td>\n",
       "      <td>511.00</td>\n",
       "      <td>3010.00</td>\n",
       "      <td>2018.00</td>\n",
       "      <td>2018.00</td>\n",
       "      <td>1427647.79</td>\n",
       "    </tr>\n",
       "  </tbody>\n",
       "</table>\n",
       "</div>"
      ],
      "text/plain": [
       "       c_zone  c_element  c_prod  c_year    year        pop\n",
       "count 4411.00    4411.00 4411.00 4411.00 4411.00    4411.00\n",
       "mean   132.20     511.00 3010.00 2009.07 2009.07   29630.04\n",
       "std     75.85       0.00    0.00    5.48    5.48  123802.86\n",
       "min      1.00     511.00 3010.00 2000.00 2000.00       0.79\n",
       "25%     68.00     511.00 3010.00 2004.00 2004.00     392.19\n",
       "50%    132.00     511.00 3010.00 2009.00 2009.00    4764.74\n",
       "75%    195.00     511.00 3010.00 2014.00 2014.00   18215.48\n",
       "max    299.00     511.00 3010.00 2018.00 2018.00 1427647.79"
      ]
     },
     "execution_count": 7,
     "metadata": {},
     "output_type": "execute_result"
    }
   ],
   "source": [
    "Pop_df.info()\n",
    "Pop_df.describe()"
   ]
  },
  {
   "cell_type": "markdown",
   "metadata": {},
   "source": [
    "Les colonnes de type \"code\" devraient être des object et non des int64. L'année pourrait être passée en date/year. De plus de nombreuses lignes sont vides dans la colonne \"note\", il serait surement plus interressant de la suprimer, de plus certaines colonnes contiennent des informations redondantes ou inutiles, on peut donc les supprimer."
   ]
  },
  {
   "cell_type": "code",
   "execution_count": 8,
   "metadata": {},
   "outputs": [],
   "source": [
    "# Supression des colonnes inutiles:\n",
    "Pop_df = Pop_df.drop([\"c_domain\",\n",
    "                      \"domain\",\n",
    "                      \"c_element\",\n",
    "                      \"element\",\n",
    "                      \"c_prod\",\n",
    "                      \"prod\",\n",
    "                      \"c_year\",\n",
    "                      \"unit\",\n",
    "                      \"symb\",\n",
    "                      \"symb_description\",\n",
    "                      \"note\"],\n",
    "                      axis=1\n",
    ")"
   ]
  },
  {
   "cell_type": "code",
   "execution_count": 9,
   "metadata": {},
   "outputs": [
    {
     "name": "stdout",
     "output_type": "stream",
     "text": [
      "<class 'pandas.core.frame.DataFrame'>\n",
      "RangeIndex: 4411 entries, 0 to 4410\n",
      "Data columns (total 4 columns):\n",
      " #   Column  Non-Null Count  Dtype  \n",
      "---  ------  --------------  -----  \n",
      " 0   c_zone  4411 non-null   object \n",
      " 1   zone    4411 non-null   object \n",
      " 2   year    4411 non-null   int64  \n",
      " 3   pop     4411 non-null   float64\n",
      "dtypes: float64(1), int64(1), object(2)\n",
      "memory usage: 138.0+ KB\n"
     ]
    },
    {
     "data": {
      "text/plain": [
       "count      4411.00\n",
       "mean      29630.04\n",
       "std      123802.86\n",
       "min           0.79\n",
       "25%         392.19\n",
       "50%        4764.74\n",
       "75%       18215.48\n",
       "max     1427647.79\n",
       "Name: pop, dtype: float64"
      ]
     },
     "execution_count": 9,
     "metadata": {},
     "output_type": "execute_result"
    }
   ],
   "source": [
    "# Changement de types:\n",
    "Pop_df[\"c_zone\"] = Pop_df[\"c_zone\"].apply(str)\n",
    "\n",
    "Pop_df.info()\n",
    "Pop_df[\"pop\"].describe()"
   ]
  },
  {
   "cell_type": "markdown",
   "metadata": {},
   "source": [
    "Pib_df:\n",
    "---"
   ]
  },
  {
   "cell_type": "code",
   "execution_count": 10,
   "metadata": {},
   "outputs": [
    {
     "name": "stdout",
     "output_type": "stream",
     "text": [
      "<class 'pandas.core.frame.DataFrame'>\n",
      "RangeIndex: 211 entries, 0 to 210\n",
      "Data columns (total 15 columns):\n",
      " #   Column            Non-Null Count  Dtype  \n",
      "---  ------            --------------  -----  \n",
      " 0   c_domain          211 non-null    object \n",
      " 1   domain            211 non-null    object \n",
      " 2   c_zone            211 non-null    int64  \n",
      " 3   zone              211 non-null    object \n",
      " 4   c_element         211 non-null    int64  \n",
      " 5   element           211 non-null    object \n",
      " 6   c_prod            211 non-null    int64  \n",
      " 7   prod              211 non-null    object \n",
      " 8   c_year            211 non-null    int64  \n",
      " 9   year              211 non-null    int64  \n",
      " 10  unit              211 non-null    object \n",
      " 11  pib/hab           211 non-null    float64\n",
      " 12  symb              211 non-null    object \n",
      " 13  symb_description  211 non-null    object \n",
      " 14  note              0 non-null      float64\n",
      "dtypes: float64(2), int64(5), object(8)\n",
      "memory usage: 24.9+ KB\n"
     ]
    },
    {
     "data": {
      "text/html": [
       "<div>\n",
       "<style scoped>\n",
       "    .dataframe tbody tr th:only-of-type {\n",
       "        vertical-align: middle;\n",
       "    }\n",
       "\n",
       "    .dataframe tbody tr th {\n",
       "        vertical-align: top;\n",
       "    }\n",
       "\n",
       "    .dataframe thead th {\n",
       "        text-align: right;\n",
       "    }\n",
       "</style>\n",
       "<table border=\"1\" class=\"dataframe\">\n",
       "  <thead>\n",
       "    <tr style=\"text-align: right;\">\n",
       "      <th></th>\n",
       "      <th>c_zone</th>\n",
       "      <th>c_element</th>\n",
       "      <th>c_prod</th>\n",
       "      <th>c_year</th>\n",
       "      <th>year</th>\n",
       "      <th>pib/hab</th>\n",
       "      <th>note</th>\n",
       "    </tr>\n",
       "  </thead>\n",
       "  <tbody>\n",
       "    <tr>\n",
       "      <th>count</th>\n",
       "      <td>211.00</td>\n",
       "      <td>211.00</td>\n",
       "      <td>211.00</td>\n",
       "      <td>211.00</td>\n",
       "      <td>211.00</td>\n",
       "      <td>211.00</td>\n",
       "      <td>0.00</td>\n",
       "    </tr>\n",
       "    <tr>\n",
       "      <th>mean</th>\n",
       "      <td>131.33</td>\n",
       "      <td>6185.00</td>\n",
       "      <td>22008.00</td>\n",
       "      <td>2017.00</td>\n",
       "      <td>2017.00</td>\n",
       "      <td>16371.23</td>\n",
       "      <td>NaN</td>\n",
       "    </tr>\n",
       "    <tr>\n",
       "      <th>std</th>\n",
       "      <td>77.80</td>\n",
       "      <td>0.00</td>\n",
       "      <td>0.00</td>\n",
       "      <td>0.00</td>\n",
       "      <td>0.00</td>\n",
       "      <td>24883.33</td>\n",
       "      <td>NaN</td>\n",
       "    </tr>\n",
       "    <tr>\n",
       "      <th>min</th>\n",
       "      <td>1.00</td>\n",
       "      <td>6185.00</td>\n",
       "      <td>22008.00</td>\n",
       "      <td>2017.00</td>\n",
       "      <td>2017.00</td>\n",
       "      <td>104.02</td>\n",
       "      <td>NaN</td>\n",
       "    </tr>\n",
       "    <tr>\n",
       "      <th>25%</th>\n",
       "      <td>64.50</td>\n",
       "      <td>6185.00</td>\n",
       "      <td>22008.00</td>\n",
       "      <td>2017.00</td>\n",
       "      <td>2017.00</td>\n",
       "      <td>2151.75</td>\n",
       "      <td>NaN</td>\n",
       "    </tr>\n",
       "    <tr>\n",
       "      <th>50%</th>\n",
       "      <td>129.00</td>\n",
       "      <td>6185.00</td>\n",
       "      <td>22008.00</td>\n",
       "      <td>2017.00</td>\n",
       "      <td>2017.00</td>\n",
       "      <td>6208.99</td>\n",
       "      <td>NaN</td>\n",
       "    </tr>\n",
       "    <tr>\n",
       "      <th>75%</th>\n",
       "      <td>194.50</td>\n",
       "      <td>6185.00</td>\n",
       "      <td>22008.00</td>\n",
       "      <td>2017.00</td>\n",
       "      <td>2017.00</td>\n",
       "      <td>19443.13</td>\n",
       "      <td>NaN</td>\n",
       "    </tr>\n",
       "    <tr>\n",
       "      <th>max</th>\n",
       "      <td>351.00</td>\n",
       "      <td>6185.00</td>\n",
       "      <td>22008.00</td>\n",
       "      <td>2017.00</td>\n",
       "      <td>2017.00</td>\n",
       "      <td>175085.06</td>\n",
       "      <td>NaN</td>\n",
       "    </tr>\n",
       "  </tbody>\n",
       "</table>\n",
       "</div>"
      ],
      "text/plain": [
       "       c_zone  c_element   c_prod  c_year    year   pib/hab  note\n",
       "count  211.00     211.00   211.00  211.00  211.00    211.00  0.00\n",
       "mean   131.33    6185.00 22008.00 2017.00 2017.00  16371.23   NaN\n",
       "std     77.80       0.00     0.00    0.00    0.00  24883.33   NaN\n",
       "min      1.00    6185.00 22008.00 2017.00 2017.00    104.02   NaN\n",
       "25%     64.50    6185.00 22008.00 2017.00 2017.00   2151.75   NaN\n",
       "50%    129.00    6185.00 22008.00 2017.00 2017.00   6208.99   NaN\n",
       "75%    194.50    6185.00 22008.00 2017.00 2017.00  19443.13   NaN\n",
       "max    351.00    6185.00 22008.00 2017.00 2017.00 175085.06   NaN"
      ]
     },
     "execution_count": 10,
     "metadata": {},
     "output_type": "execute_result"
    }
   ],
   "source": [
    "Pib_df.info()\n",
    "Pib_df.describe()"
   ]
  },
  {
   "cell_type": "markdown",
   "metadata": {},
   "source": [
    "Les colonnes de type \"code\" devraient être des object et non des int64. L'année pourrait être passée en date/year. De plus toutes les lignes sont vides dans la colonne \"note\", et certaines colonnes contiennent des informations redondantes et inutiles on peut donc les supprimer."
   ]
  },
  {
   "cell_type": "code",
   "execution_count": 11,
   "metadata": {},
   "outputs": [],
   "source": [
    "# Supression des colonnes inutiles:\n",
    "Pib_df = Pib_df.drop([\"c_domain\",\n",
    "                      \"domain\",\n",
    "                      \"c_element\",\n",
    "                      \"element\",\n",
    "                      \"c_prod\",\n",
    "                      \"prod\",\n",
    "                      \"c_year\",\n",
    "                      \"unit\",\n",
    "                      \"symb\",\n",
    "                      \"symb_description\",\n",
    "                      \"note\"],\n",
    "axis=1)"
   ]
  },
  {
   "cell_type": "code",
   "execution_count": 12,
   "metadata": {},
   "outputs": [
    {
     "name": "stdout",
     "output_type": "stream",
     "text": [
      "<class 'pandas.core.frame.DataFrame'>\n",
      "RangeIndex: 211 entries, 0 to 210\n",
      "Data columns (total 4 columns):\n",
      " #   Column   Non-Null Count  Dtype  \n",
      "---  ------   --------------  -----  \n",
      " 0   c_zone   211 non-null    object \n",
      " 1   zone     211 non-null    object \n",
      " 2   year     211 non-null    int64  \n",
      " 3   pib/hab  211 non-null    float64\n",
      "dtypes: float64(1), int64(1), object(2)\n",
      "memory usage: 6.7+ KB\n"
     ]
    },
    {
     "data": {
      "text/plain": [
       "count      211.00\n",
       "mean     16371.23\n",
       "std      24883.33\n",
       "min        104.02\n",
       "25%       2151.75\n",
       "50%       6208.99\n",
       "75%      19443.13\n",
       "max     175085.06\n",
       "Name: pib/hab, dtype: float64"
      ]
     },
     "execution_count": 12,
     "metadata": {},
     "output_type": "execute_result"
    }
   ],
   "source": [
    "# Changement de types:\n",
    "Pib_df[\"c_zone\"] = Pib_df[\"c_zone\"].apply(str)\n",
    "\n",
    "Pib_df.info()\n",
    "Pib_df[\"pib/hab\"].describe()"
   ]
  },
  {
   "cell_type": "markdown",
   "metadata": {},
   "source": [
    "Prot_df:\n",
    "---"
   ]
  },
  {
   "cell_type": "code",
   "execution_count": 13,
   "metadata": {},
   "outputs": [
    {
     "name": "stdout",
     "output_type": "stream",
     "text": [
      "<class 'pandas.core.frame.DataFrame'>\n",
      "RangeIndex: 346 entries, 0 to 345\n",
      "Data columns (total 15 columns):\n",
      " #   Column            Non-Null Count  Dtype  \n",
      "---  ------            --------------  -----  \n",
      " 0   c_domain          346 non-null    object \n",
      " 1   domain            346 non-null    object \n",
      " 2   c_zone            346 non-null    int64  \n",
      " 3   zone              346 non-null    object \n",
      " 4   c_element         346 non-null    int64  \n",
      " 5   element           346 non-null    object \n",
      " 6   c_prod            346 non-null    int64  \n",
      " 7   prod              346 non-null    object \n",
      " 8   c_year            346 non-null    int64  \n",
      " 9   year              346 non-null    object \n",
      " 10  unit              346 non-null    object \n",
      " 11  value             346 non-null    float64\n",
      " 12  symb              346 non-null    object \n",
      " 13  symb_description  346 non-null    object \n",
      " 14  note              0 non-null      float64\n",
      "dtypes: float64(2), int64(4), object(9)\n",
      "memory usage: 40.7+ KB\n"
     ]
    },
    {
     "data": {
      "text/html": [
       "<div>\n",
       "<style scoped>\n",
       "    .dataframe tbody tr th:only-of-type {\n",
       "        vertical-align: middle;\n",
       "    }\n",
       "\n",
       "    .dataframe tbody tr th {\n",
       "        vertical-align: top;\n",
       "    }\n",
       "\n",
       "    .dataframe thead th {\n",
       "        text-align: right;\n",
       "    }\n",
       "</style>\n",
       "<table border=\"1\" class=\"dataframe\">\n",
       "  <thead>\n",
       "    <tr style=\"text-align: right;\">\n",
       "      <th></th>\n",
       "      <th>c_zone</th>\n",
       "      <th>c_element</th>\n",
       "      <th>c_prod</th>\n",
       "      <th>c_year</th>\n",
       "      <th>value</th>\n",
       "      <th>note</th>\n",
       "    </tr>\n",
       "  </thead>\n",
       "  <tbody>\n",
       "    <tr>\n",
       "      <th>count</th>\n",
       "      <td>346.00</td>\n",
       "      <td>346.00</td>\n",
       "      <td>346.00</td>\n",
       "      <td>346.00</td>\n",
       "      <td>346.00</td>\n",
       "      <td>0.00</td>\n",
       "    </tr>\n",
       "    <tr>\n",
       "      <th>mean</th>\n",
       "      <td>127.94</td>\n",
       "      <td>6123.00</td>\n",
       "      <td>21013.50</td>\n",
       "      <td>20162018.00</td>\n",
       "      <td>59.09</td>\n",
       "      <td>NaN</td>\n",
       "    </tr>\n",
       "    <tr>\n",
       "      <th>std</th>\n",
       "      <td>74.63</td>\n",
       "      <td>0.00</td>\n",
       "      <td>0.50</td>\n",
       "      <td>0.00</td>\n",
       "      <td>30.35</td>\n",
       "      <td>NaN</td>\n",
       "    </tr>\n",
       "    <tr>\n",
       "      <th>min</th>\n",
       "      <td>1.00</td>\n",
       "      <td>6123.00</td>\n",
       "      <td>21013.00</td>\n",
       "      <td>20162018.00</td>\n",
       "      <td>6.00</td>\n",
       "      <td>NaN</td>\n",
       "    </tr>\n",
       "    <tr>\n",
       "      <th>25%</th>\n",
       "      <td>67.00</td>\n",
       "      <td>6123.00</td>\n",
       "      <td>21013.00</td>\n",
       "      <td>20162018.00</td>\n",
       "      <td>35.78</td>\n",
       "      <td>NaN</td>\n",
       "    </tr>\n",
       "    <tr>\n",
       "      <th>50%</th>\n",
       "      <td>122.00</td>\n",
       "      <td>6123.00</td>\n",
       "      <td>21013.50</td>\n",
       "      <td>20162018.00</td>\n",
       "      <td>59.85</td>\n",
       "      <td>NaN</td>\n",
       "    </tr>\n",
       "    <tr>\n",
       "      <th>75%</th>\n",
       "      <td>189.00</td>\n",
       "      <td>6123.00</td>\n",
       "      <td>21014.00</td>\n",
       "      <td>20162018.00</td>\n",
       "      <td>83.15</td>\n",
       "      <td>NaN</td>\n",
       "    </tr>\n",
       "    <tr>\n",
       "      <th>max</th>\n",
       "      <td>351.00</td>\n",
       "      <td>6123.00</td>\n",
       "      <td>21014.00</td>\n",
       "      <td>20162018.00</td>\n",
       "      <td>143.30</td>\n",
       "      <td>NaN</td>\n",
       "    </tr>\n",
       "  </tbody>\n",
       "</table>\n",
       "</div>"
      ],
      "text/plain": [
       "       c_zone  c_element   c_prod      c_year  value  note\n",
       "count  346.00     346.00   346.00      346.00 346.00  0.00\n",
       "mean   127.94    6123.00 21013.50 20162018.00  59.09   NaN\n",
       "std     74.63       0.00     0.50        0.00  30.35   NaN\n",
       "min      1.00    6123.00 21013.00 20162018.00   6.00   NaN\n",
       "25%     67.00    6123.00 21013.00 20162018.00  35.78   NaN\n",
       "50%    122.00    6123.00 21013.50 20162018.00  59.85   NaN\n",
       "75%    189.00    6123.00 21014.00 20162018.00  83.15   NaN\n",
       "max    351.00    6123.00 21014.00 20162018.00 143.30   NaN"
      ]
     },
     "execution_count": 13,
     "metadata": {},
     "output_type": "execute_result"
    }
   ],
   "source": [
    "Prot_df.info()\n",
    "Prot_df.describe()"
   ]
  },
  {
   "cell_type": "code",
   "execution_count": 14,
   "metadata": {},
   "outputs": [],
   "source": [
    "# Supression des colonnes inutiles:\n",
    "Prot_df = Prot_df.drop([\"c_domain\",\n",
    "                        \"domain\",\n",
    "                        \"c_element\",\n",
    "                        \"element\",\n",
    "                        \"c_prod\",\n",
    "                        \"c_year\",\n",
    "                        \"year\",\n",
    "                        \"unit\",\n",
    "                        \"symb\",\n",
    "                        \"symb_description\",\n",
    "                        \"note\"],\n",
    "axis=1)"
   ]
  },
  {
   "cell_type": "code",
   "execution_count": 15,
   "metadata": {},
   "outputs": [
    {
     "name": "stdout",
     "output_type": "stream",
     "text": [
      "<class 'pandas.core.frame.DataFrame'>\n",
      "RangeIndex: 346 entries, 0 to 345\n",
      "Data columns (total 4 columns):\n",
      " #   Column  Non-Null Count  Dtype  \n",
      "---  ------  --------------  -----  \n",
      " 0   c_zone  346 non-null    object \n",
      " 1   zone    346 non-null    object \n",
      " 2   prod    346 non-null    object \n",
      " 3   value   346 non-null    float64\n",
      "dtypes: float64(1), object(3)\n",
      "memory usage: 10.9+ KB\n"
     ]
    }
   ],
   "source": [
    "# Changement de types:\n",
    "Prot_df[\"c_zone\"] = Prot_df[\"c_zone\"].apply(str)\n",
    "Prot_df.info()"
   ]
  },
  {
   "cell_type": "markdown",
   "metadata": {},
   "source": [
    "Code_Pays_df:\n",
    "---"
   ]
  },
  {
   "cell_type": "code",
   "execution_count": 16,
   "metadata": {},
   "outputs": [
    {
     "name": "stdout",
     "output_type": "stream",
     "text": [
      "<class 'pandas.core.frame.DataFrame'>\n",
      "RangeIndex: 175 entries, 0 to 174\n",
      "Data columns (total 4 columns):\n",
      " #   Column  Non-Null Count  Dtype \n",
      "---  ------  --------------  ----- \n",
      " 0   iso3    174 non-null    object\n",
      " 1   ISO2    174 non-null    object\n",
      " 2   c_zone  175 non-null    int64 \n",
      " 3   pays    175 non-null    object\n",
      "dtypes: int64(1), object(3)\n",
      "memory usage: 5.6+ KB\n"
     ]
    },
    {
     "data": {
      "text/html": [
       "<div>\n",
       "<style scoped>\n",
       "    .dataframe tbody tr th:only-of-type {\n",
       "        vertical-align: middle;\n",
       "    }\n",
       "\n",
       "    .dataframe tbody tr th {\n",
       "        vertical-align: top;\n",
       "    }\n",
       "\n",
       "    .dataframe thead th {\n",
       "        text-align: right;\n",
       "    }\n",
       "</style>\n",
       "<table border=\"1\" class=\"dataframe\">\n",
       "  <thead>\n",
       "    <tr style=\"text-align: right;\">\n",
       "      <th></th>\n",
       "      <th>c_zone</th>\n",
       "    </tr>\n",
       "  </thead>\n",
       "  <tbody>\n",
       "    <tr>\n",
       "      <th>count</th>\n",
       "      <td>175.00</td>\n",
       "    </tr>\n",
       "    <tr>\n",
       "      <th>mean</th>\n",
       "      <td>126.72</td>\n",
       "    </tr>\n",
       "    <tr>\n",
       "      <th>std</th>\n",
       "      <td>75.17</td>\n",
       "    </tr>\n",
       "    <tr>\n",
       "      <th>min</th>\n",
       "      <td>1.00</td>\n",
       "    </tr>\n",
       "    <tr>\n",
       "      <th>25%</th>\n",
       "      <td>64.50</td>\n",
       "    </tr>\n",
       "    <tr>\n",
       "      <th>50%</th>\n",
       "      <td>121.00</td>\n",
       "    </tr>\n",
       "    <tr>\n",
       "      <th>75%</th>\n",
       "      <td>188.50</td>\n",
       "    </tr>\n",
       "    <tr>\n",
       "      <th>max</th>\n",
       "      <td>351.00</td>\n",
       "    </tr>\n",
       "  </tbody>\n",
       "</table>\n",
       "</div>"
      ],
      "text/plain": [
       "       c_zone\n",
       "count  175.00\n",
       "mean   126.72\n",
       "std     75.17\n",
       "min      1.00\n",
       "25%     64.50\n",
       "50%    121.00\n",
       "75%    188.50\n",
       "max    351.00"
      ]
     },
     "execution_count": 16,
     "metadata": {},
     "output_type": "execute_result"
    }
   ],
   "source": [
    "Code_Pays_df.info()\n",
    "Code_Pays_df.describe()"
   ]
  },
  {
   "cell_type": "code",
   "execution_count": 17,
   "metadata": {},
   "outputs": [],
   "source": [
    "# Supression des colonnes inutiles:\n",
    "Code_Pays_df = Code_Pays_df.drop([\"ISO2\",\n",
    "                                  \"pays\"],\n",
    "axis=1)"
   ]
  },
  {
   "cell_type": "code",
   "execution_count": 18,
   "metadata": {},
   "outputs": [
    {
     "name": "stdout",
     "output_type": "stream",
     "text": [
      "<class 'pandas.core.frame.DataFrame'>\n",
      "RangeIndex: 175 entries, 0 to 174\n",
      "Data columns (total 2 columns):\n",
      " #   Column  Non-Null Count  Dtype \n",
      "---  ------  --------------  ----- \n",
      " 0   iso3    174 non-null    object\n",
      " 1   c_zone  175 non-null    object\n",
      "dtypes: object(2)\n",
      "memory usage: 2.9+ KB\n"
     ]
    }
   ],
   "source": [
    "# Changement de types:\n",
    "Code_Pays_df[\"c_zone\"] = Code_Pays_df[\"c_zone\"].apply(str)\n",
    "Code_Pays_df.info()"
   ]
  },
  {
   "cell_type": "markdown",
   "metadata": {},
   "source": [
    "Il manque le code IOS alpha 3 du pays correspondant au code FAO 351, c'est à dire de la Chine, ce n'est pas grave puisqu'elle sera supprimée des données plus tard au profit des sous groupes \"Chine continentale\" \"Chine Macao\" ect...."
   ]
  },
  {
   "cell_type": "markdown",
   "metadata": {},
   "source": [
    "Preparation des donnees avant analyse:\n",
    "==="
   ]
  },
  {
   "cell_type": "markdown",
   "metadata": {},
   "source": [
    "On veux ensuite créer un dataframe avec par pays:\n",
    "- La population en 2017\n",
    "- La variation de population selon nos données (depuis 2000)\n",
    "- Le PIB en 2017\n",
    "- Les importations de viande de volailles en 2017\n",
    "- La production ou disponibilité intérrieure (?) de viande de volailles en 2017\n",
    "- *La proportion de protéines d'origine animale par rapport à la quantité totale de protéines dans la disponibilité alimentaire du pays*\n",
    "\n",
    "Nous avons décider de nous concerntrer sur 2017 puisque nous avons toutes les données dans nos dataframes respectifs. Après analyse nous pourrons éventuellement ajouter d'autres varriables (stabilité, présence de voisins producteurs, appartenance à des marchés \n",
    "(UE, MERCA...), isolationisme/nationalisme/taxation des imports en provenance de France...)"
   ]
  },
  {
   "cell_type": "markdown",
   "metadata": {},
   "source": [
    "On commence par remodeler le dataframe population pour ne garder que les informations utiles:"
   ]
  },
  {
   "cell_type": "code",
   "execution_count": 19,
   "metadata": {},
   "outputs": [
    {
     "name": "stdout",
     "output_type": "stream",
     "text": [
      "<class 'pandas.core.frame.DataFrame'>\n",
      "RangeIndex: 238 entries, 0 to 237\n",
      "Data columns (total 4 columns):\n",
      " #   Column  Non-Null Count  Dtype  \n",
      "---  ------  --------------  -----  \n",
      " 0   c_zone  238 non-null    object \n",
      " 1   zone    238 non-null    object \n",
      " 2   pop07   230 non-null    float64\n",
      " 3   pop17   236 non-null    float64\n",
      "dtypes: float64(2), object(2)\n",
      "memory usage: 7.6+ KB\n"
     ]
    }
   ],
   "source": [
    "# Modification du dataframe Pop_df:\n",
    "Pop_df = pd.pivot_table(Pop_df, columns=[\"year\"], index=[\"c_zone\",\"zone\"]).reset_index()              #On met les annees en colonnes\n",
    "Pop_df = Pop_df.drop(Pop_df.columns[[2,3,4,5,6,7,8,10,11,12,13,14,15,16,17,18,20]],axis=1)            #On supprime celles qui ne serviront pas\n",
    "Pop_df.columns = [\"c_zone\",\"zone\",\"pop07\",\"pop17\"]\n",
    "Pop_df.info()\n",
    "\n",
    "# On change l'unite pour avoir l'estimation reelle (et non en miliers d'habitants) pour eviter limiter les riques d'erreurs\n",
    "Pop_df[\"pop07\"] = Pop_df[\"pop07\"]*1000\n",
    "Pop_df[\"pop17\"] = Pop_df[\"pop17\"]*1000"
   ]
  },
  {
   "cell_type": "code",
   "execution_count": 20,
   "metadata": {},
   "outputs": [
    {
     "name": "stdout",
     "output_type": "stream",
     "text": [
      "Int64Index([89, 111, 163, 164, 165, 166, 168, 169, 170], dtype='int64')\n"
     ]
    }
   ],
   "source": [
    "print(Pop_df.index[Pop_df.isnull().any(axis=1)])"
   ]
  },
  {
   "cell_type": "markdown",
   "metadata": {},
   "source": [
    "On remaque qu'il nous manque certaines données, or pour les analyses a venir il est important de ne pas avoir de données manquantes:\n",
    "- 89,Serbie et Monténégro : ils sont présentents séparéments, on peut supprimer cette ligne.\n",
    "- 111, Soudan (ex): remplacé en 2011 par le Soudan et le Soudan du sud qui sont présents séparéments, on peut supprimer cette ligne.\n",
    "- 163, Soudan : pas de données pour 2007, on doit les remplacées par celle du Soudan (ex)\n",
    "- 164, Soudan du sud: pas de données pour 2007, on doit les remplacées par celle du Soudan (ex)\n",
    "- 165, Bonaire, Saint-Eustache et Saba : pas de pop07\n",
    "- 166, Curaçao : pas de pop07\n",
    "- 168, Sint Maarten  (partie néerlandaise) : pas de pop07\n",
    "- 169, Saint Martin (partie française) : pas de pop07\n",
    "- 170, Saint-Barthélemy : pas de pop07\n",
    "\n",
    "Les cinq autres sont sous l'égide de pays plus grands (France, Pays Bas...) en 2007 leur population était comptabilisée directement dans ce pays, par manque de temps pour rechercher des sources fiables pouvant nous donner ces informations et pour éviter au maximum les redondances dans nos données nous supprimons ces lignes."
   ]
  },
  {
   "cell_type": "code",
   "execution_count": 21,
   "metadata": {},
   "outputs": [],
   "source": [
    "# Ajout de la population de 2007 Pour les deux Soudan à partir de Soudan (ex)\n",
    "soudan07 = Pop_df.loc[(Pop_df[\"c_zone\"] == \"206\"),\"pop07\"].values[0]\n",
    "\n",
    "Pop_df[\"pop07\"] = np.where(Pop_df[\"c_zone\"] == \"276\",soudan07,Pop_df[\"pop07\"])\n",
    "Pop_df[\"pop07\"] = np.where(Pop_df[\"c_zone\"] == \"277\",soudan07,Pop_df[\"pop07\"])\n",
    "\n",
    "# Suppression du reste:\n",
    "Pop_df = Pop_df.dropna()"
   ]
  },
  {
   "cell_type": "code",
   "execution_count": 22,
   "metadata": {},
   "outputs": [
    {
     "name": "stdout",
     "output_type": "stream",
     "text": [
      "231\n"
     ]
    }
   ],
   "source": [
    "# Ajout d'une colonne \"taux d'evolution de la population sur dix ans\" en pourcentage:\n",
    "Pop_df[\"evo_pop\"] = round((Pop_df[\"pop17\"] - Pop_df[\"pop07\"])/ Pop_df[\"pop07\"]*100,3)\n",
    "\n",
    "# On supprime la colonne pop07 qui ne nous servira plus:\n",
    "Pop_df.drop([\"pop07\"],axis=1, inplace=True)\n",
    "\n",
    "# Verification de l'unicite du code pays (\"c_zone\"):\n",
    "print(Pop_df[\"c_zone\"].nunique())"
   ]
  },
  {
   "cell_type": "markdown",
   "metadata": {},
   "source": [
    "Il y a 231 codes zones différents pour 231 lignes dans notre dataframes, les codes zones sont donc uniques et peuvent faire une bonne clé pour la suite. \n",
    "*RQ: Pour ne pas surcharger les dataframes suivants nous supprimons la colonnes pop07 qui ne nous servira plus*"
   ]
  },
  {
   "cell_type": "markdown",
   "metadata": {},
   "source": [
    "On peut maintenant merger le dataframe population et le dataframe pib:"
   ]
  },
  {
   "cell_type": "code",
   "execution_count": 23,
   "metadata": {},
   "outputs": [
    {
     "name": "stdout",
     "output_type": "stream",
     "text": [
      "211\n"
     ]
    }
   ],
   "source": [
    "# On verrifie l'unicite de c_zone pour pib_df:\n",
    "print(Pib_df[\"c_zone\"].nunique())\n"
   ]
  },
  {
   "cell_type": "markdown",
   "metadata": {},
   "source": [
    "211 codes de zones pour 211 lignes, les codes sont bien uniques et peuvent servir de clés dans la fusion avec le dataframe de population cependant on remarque qu'il y a une différence de 7 lignes entre les deux dataframes, nous devrons donc regarder quel sont les pays concernés. On fera une jointure \"full outter\" pour ne perdre aucune informations (on pourrait faire une jointure lattérale qui supprimerait directement les pays pour lesquels nous avons pas d'informations sur le PIB)"
   ]
  },
  {
   "cell_type": "code",
   "execution_count": 24,
   "metadata": {},
   "outputs": [
    {
     "name": "stdout",
     "output_type": "stream",
     "text": [
      "<class 'pandas.core.frame.DataFrame'>\n",
      "Int64Index: 234 entries, 0 to 233\n",
      "Data columns (total 7 columns):\n",
      " #   Column   Non-Null Count  Dtype  \n",
      "---  ------   --------------  -----  \n",
      " 0   c_zone   234 non-null    object \n",
      " 1   zone_x   231 non-null    object \n",
      " 2   pop17    231 non-null    float64\n",
      " 3   evo_pop  231 non-null    float64\n",
      " 4   zone_y   211 non-null    object \n",
      " 5   year     211 non-null    float64\n",
      " 6   pib/hab  211 non-null    float64\n",
      "dtypes: float64(4), object(3)\n",
      "memory usage: 14.6+ KB\n"
     ]
    }
   ],
   "source": [
    "# Merge des datafrma Pop_df et pib_df:\n",
    "Complet_df = pd.merge(Pop_df, Pib_df, on=\"c_zone\", how=\"outer\")\n",
    "Complet_df.info()"
   ]
  },
  {
   "cell_type": "code",
   "execution_count": 25,
   "metadata": {},
   "outputs": [
    {
     "name": "stdout",
     "output_type": "stream",
     "text": [
      "Int64Index([ 39,  55,  64,  66,  85,  89,  93, 109, 118, 122, 144, 145, 154,\n",
      "            156, 158, 183, 197, 198, 202, 213, 218, 219, 225, 231, 232, 233],\n",
      "           dtype='int64')\n"
     ]
    }
   ],
   "source": [
    "# Identification des pays ayant des donnees manquantes:\n",
    "print(Complet_df.index[Complet_df.isnull().any(axis=1)])"
   ]
  },
  {
   "cell_type": "markdown",
   "metadata": {},
   "source": [
    "Les données manquantes sont:\n",
    "- 39, Martinique\n",
    "- 55, Antilles néerlandaises (ex)\n",
    "- 64, Nioué\n",
    "- 66, Îles Mariannes du Nord\n",
    "- 85, Réunion \n",
    "- 89, Sainte-Hélène, Ascension et Tristan da Cunha\n",
    "- 93, Saint-Pierre-et-Miquelon\n",
    "- 109, Sahara occidental\n",
    "- 118, Chine, Taiwan Province de\n",
    "- 122, Tokélaou\n",
    "- 144, Îles Vierges américaines\n",
    "- 145, Îles Wallis-et-Futuna\n",
    "- 154, Îles Anglo-Normandes\n",
    "- 156, Île de Man\n",
    "- 158, Mayotte\n",
    "- 197, Îles Féroé\n",
    "- 198, Îles Falkland (Malvinas)\n",
    "- 202, Guyane française\n",
    "- 213, Gibraltar\n",
    "- 218, Guadeloupe\n",
    "- 219, Guam\n",
    "- 225, Saint-Siège\n",
    "- 231, Chine \n",
    "- 232, Curaçao (PIB)\n",
    "- 233, Sint Maarten (partie néerlandaise)\n",
    "\n",
    "La plupart des pays sont comme précédement sous dépendance de pays plus influents (France, Pays Bas, Italie...) leur PIB peut donc se retrouver incorporé aux leurs. Par manque de temps pour trouver des sources fiables et pour éviter au maximum la redondance des données nour décidons de les supprimer.\n",
    "\n",
    "Les cas du Sahara occidental et de Taiwan sont plus complexes, leur indépendance n'étant pas unaniement reconnue par la communauté internationnale leur PIB pourrait être comptabilisé dans celui des pays revendiquant un droit sur leur territoires (le Maroc et la Chine respecctivement). Dans tous les cas nous décidons de les supprimer pour éviter les redondances dans nos données mais aussi parceque leur situation n'est pas très propice aux importations.\n",
    "\n",
    "Pour fini le cas de la Chine est plus inquitant en effet nous avant son PIB mais pas sa population. En regardant plus attentivement nos données, il s'avère qu'elle est en fait découpé en régions (Macao, Hong-Kong et la Chine continentale), nous avons les données de population et de PIB pour ces régions nous décidons donc de ne pas les réuinir pour gagner en précision et de supprimer le ligne générale \"Chine\".\n",
    "\n",
    "En résumé nous prennons la déscision de supprimer toutes les lignes contenant au moins un NaN. Nous supprimons également la colonne \"year\" puisque nous avons décidés de nous concentrer sur l'année 2017 et la colonne \"Zone_y\" duplicat de \"zone_x\" qui sera donc renommée en \"zone\" "
   ]
  },
  {
   "cell_type": "code",
   "execution_count": 26,
   "metadata": {},
   "outputs": [],
   "source": [
    "# Suppression des donnees manquantes:\n",
    "Complet_df = Complet_df.dropna()\n",
    "\n",
    "# Suppression et renommage des colonnes zones:\n",
    "Complet_df.drop([\"zone_y\"],axis=1, inplace=True)\n",
    "Complet_df.drop([\"year\"],axis=1, inplace=True)\n",
    "Complet_df.rename(columns={\"zone_x\": \"zone\"},inplace=True)"
   ]
  },
  {
   "cell_type": "markdown",
   "metadata": {},
   "source": [
    "Regardons ensuite Prot_df:"
   ]
  },
  {
   "cell_type": "code",
   "execution_count": 27,
   "metadata": {},
   "outputs": [
    {
     "name": "stdout",
     "output_type": "stream",
     "text": [
      "<class 'pandas.core.frame.DataFrame'>\n",
      "RangeIndex: 173 entries, 0 to 172\n",
      "Data columns (total 4 columns):\n",
      " #   Column                       Non-Null Count  Dtype  \n",
      "---  ------                       --------------  -----  \n",
      " 0   c_zone                       173 non-null    object \n",
      " 1   zone                         173 non-null    object \n",
      " 2   dispo_prot_(g/hab/j)         173 non-null    float64\n",
      " 3   dispo_prot_animal_(g/hab/j)  173 non-null    float64\n",
      "dtypes: float64(2), object(2)\n",
      "memory usage: 5.5+ KB\n"
     ]
    }
   ],
   "source": [
    "# Modification du dataframe Pop_df:\n",
    "Prot_df = pd.pivot_table(Prot_df, columns=[\"prod\"], index=[\"c_zone\",\"zone\"]).reset_index()\n",
    "Prot_df.columns = [\"c_zone\",\"zone\",\"dispo_prot_(g/hab/j)\",\"dispo_prot_animal_(g/hab/j)\"]\n",
    "Prot_df.info()\n",
    "\n",
    "# Ajout colonne ratio disponibilite en proteine animale sur disponibilite en protein totale:\n",
    "Prot_df[\"ratio_prot_animal/prot_tot\"] = Prot_df[\"dispo_prot_animal_(g/hab/j)\"]/Prot_df[\"dispo_prot_(g/hab/j)\"]"
   ]
  },
  {
   "cell_type": "code",
   "execution_count": 28,
   "metadata": {},
   "outputs": [
    {
     "name": "stdout",
     "output_type": "stream",
     "text": [
      "173\n"
     ]
    }
   ],
   "source": [
    "# On verrifie l'unicite de c_zone pour Prot_df:\n",
    "print(Prot_df[\"c_zone\"].nunique())\n"
   ]
  },
  {
   "cell_type": "markdown",
   "metadata": {},
   "source": [
    "173 codes zones pour 173 lignes, les codes zones sont bien uniques et peuvent servir de clé."
   ]
  },
  {
   "cell_type": "code",
   "execution_count": 29,
   "metadata": {},
   "outputs": [
    {
     "name": "stdout",
     "output_type": "stream",
     "text": [
      "<class 'pandas.core.frame.DataFrame'>\n",
      "Int64Index: 210 entries, 0 to 209\n",
      "Data columns (total 9 columns):\n",
      " #   Column                       Non-Null Count  Dtype  \n",
      "---  ------                       --------------  -----  \n",
      " 0   c_zone                       210 non-null    object \n",
      " 1   zone_x                       208 non-null    object \n",
      " 2   pop17                        208 non-null    float64\n",
      " 3   evo_pop                      208 non-null    float64\n",
      " 4   pib/hab                      208 non-null    float64\n",
      " 5   zone_y                       173 non-null    object \n",
      " 6   dispo_prot_(g/hab/j)         173 non-null    float64\n",
      " 7   dispo_prot_animal_(g/hab/j)  173 non-null    float64\n",
      " 8   ratio_prot_animal/prot_tot   173 non-null    float64\n",
      "dtypes: float64(6), object(3)\n",
      "memory usage: 16.4+ KB\n"
     ]
    }
   ],
   "source": [
    "# Merge des datafrma Complet_df et Prot_df:\n",
    "Complet_df = pd.merge(Complet_df, Prot_df, on=\"c_zone\", how=\"outer\")\n",
    "Complet_df.info()"
   ]
  },
  {
   "cell_type": "code",
   "execution_count": 30,
   "metadata": {},
   "outputs": [],
   "source": [
    "Complet_df.drop([\"zone_y\"],axis=1, inplace=True)\n",
    "Complet_df.rename(columns={\"zone_x\": \"zone\"},inplace=True)"
   ]
  },
  {
   "cell_type": "markdown",
   "metadata": {},
   "source": [
    "Passons maintenant au remodelage du dataframe \"Dispo_Alim\":"
   ]
  },
  {
   "cell_type": "code",
   "execution_count": 31,
   "metadata": {},
   "outputs": [
    {
     "name": "stdout",
     "output_type": "stream",
     "text": [
      "<class 'pandas.core.frame.DataFrame'>\n",
      "RangeIndex: 172 entries, 0 to 171\n",
      "Data columns (total 7 columns):\n",
      " #   Column                           Non-Null Count  Dtype  \n",
      "---  ------                           --------------  -----  \n",
      " 0   c_zone                           172 non-null    object \n",
      " 1   zone                             172 non-null    object \n",
      " 2   dispo_alim_volaille_(kg/hab/an)  172 non-null    float64\n",
      " 3   dispo_prot_volaille_(g/hab/j)    172 non-null    float64\n",
      " 4   dispo_int_volaille_(kt)          170 non-null    float64\n",
      " 5   import_volaille_(kt)             170 non-null    float64\n",
      " 6   production_volaille_(kt)         168 non-null    float64\n",
      "dtypes: float64(5), object(2)\n",
      "memory usage: 9.5+ KB\n"
     ]
    }
   ],
   "source": [
    "# Creation d'un dataframe specifique à la viande de volaille:\n",
    "Volaille_df = Dispo_Alim_df.loc[(Dispo_Alim_df[\"c_prod\"] == \"2734\"),(\"c_zone\",\"zone\",\"c_element\",\"element\",\"unit\",\"value\")]\n",
    "Volaille_df[\"element_(unit)\"] = Volaille_df[\"element\"].map(str) + \" (\" + Volaille_df[\"unit\"] + \")\"\n",
    "Volaille_df.drop([\"c_element\"],axis=1, inplace=True)\n",
    "Volaille_df.drop([\"element\"],axis=1, inplace=True)\n",
    "Volaille_df.drop([\"unit\"],axis=1, inplace=True)\n",
    "Volaille_df = pd.pivot_table(Volaille_df, columns=[\"element_(unit)\"], index=[\"c_zone\",\"zone\"]).reset_index()\n",
    "Volaille_df = Volaille_df.drop(Volaille_df.columns[[2,3,4,5,7,10,12,13,15,16,17,18]],axis=1)\n",
    "Volaille_df.columns = [\"c_zone\",\"zone\",\"dispo_alim_volaille_(kg/hab/an)\",\"dispo_prot_volaille_(g/hab/j)\",\"dispo_int_volaille_(kt)\",\"import_volaille_(kt)\",\"production_volaille_(kt)\"]\n",
    "Volaille_df.info()"
   ]
  },
  {
   "cell_type": "markdown",
   "metadata": {},
   "source": [
    "Il y a des cases vides"
   ]
  },
  {
   "cell_type": "code",
   "execution_count": 32,
   "metadata": {},
   "outputs": [
    {
     "name": "stdout",
     "output_type": "stream",
     "text": [
      "Int64Index([23, 32, 106, 151], dtype='int64')\n"
     ]
    }
   ],
   "source": [
    "print(Volaille_df.index[Volaille_df.isnull().any(axis=1)])"
   ]
  },
  {
   "cell_type": "markdown",
   "metadata": {},
   "source": [
    "- 23, République démocratique populaire lao : dipos intérieure, imports et production manquent\n",
    "- 32, Maldives : production manque\n",
    "- 106, Ouzbékistan : dipos intérieure, imports et production manquent\n",
    "- 151, Djibouti : production manque\n",
    "\n",
    "Les analyses à venir ne supportant que mal les données manquantes nous supprimons ces lignes.\n",
    "\n",
    "Si temps:\n",
    "*On pourrait aussi utiliser le package missMDA dans R en complément de FactoMineR...* \n",
    "*Nous savons (P04) que la Disponibilité intérieure = Production + Importation - Exportation + Variation des stocks. On peut donc en déduire que :*\n",
    "*Production = Disponibilité intérieure - Importations + Exportation - Variations des stocks.*\n",
    "*Cette formule nous permet de completer nos données de manière suffisament préscise pour Djibouti et les Maldives, cependant pour la République démocratique populaire du Laos et l'Ouzbékistan trop de données manquent pour l'appliquée.*\n"
   ]
  },
  {
   "cell_type": "code",
   "execution_count": 33,
   "metadata": {},
   "outputs": [
    {
     "name": "stdout",
     "output_type": "stream",
     "text": [
      "168\n"
     ]
    }
   ],
   "source": [
    "# Suppression des données manquantes:\n",
    "Volaille_df = Volaille_df.dropna()\n",
    "\n",
    "# On verrifie l'unicite de c_zone pour Volaille_df:\n",
    "print(Volaille_df[\"c_zone\"].nunique())\n"
   ]
  },
  {
   "cell_type": "markdown",
   "metadata": {},
   "source": [
    "168 c_zone pour 168 lignes, les codes sont bien uniques et peuvent servir de clés dans la fusion avec le dataframe Complet_df"
   ]
  },
  {
   "cell_type": "code",
   "execution_count": 34,
   "metadata": {},
   "outputs": [
    {
     "name": "stdout",
     "output_type": "stream",
     "text": [
      "<class 'pandas.core.frame.DataFrame'>\n",
      "Int64Index: 210 entries, 0 to 209\n",
      "Data columns (total 14 columns):\n",
      " #   Column                           Non-Null Count  Dtype  \n",
      "---  ------                           --------------  -----  \n",
      " 0   c_zone                           210 non-null    object \n",
      " 1   zone_x                           208 non-null    object \n",
      " 2   pop17                            208 non-null    float64\n",
      " 3   evo_pop                          208 non-null    float64\n",
      " 4   pib/hab                          208 non-null    float64\n",
      " 5   dispo_prot_(g/hab/j)             173 non-null    float64\n",
      " 6   dispo_prot_animal_(g/hab/j)      173 non-null    float64\n",
      " 7   ratio_prot_animal/prot_tot       173 non-null    float64\n",
      " 8   zone_y                           168 non-null    object \n",
      " 9   dispo_alim_volaille_(kg/hab/an)  168 non-null    float64\n",
      " 10  dispo_prot_volaille_(g/hab/j)    168 non-null    float64\n",
      " 11  dispo_int_volaille_(kt)          168 non-null    float64\n",
      " 12  import_volaille_(kt)             168 non-null    float64\n",
      " 13  production_volaille_(kt)         168 non-null    float64\n",
      "dtypes: float64(11), object(3)\n",
      "memory usage: 24.6+ KB\n"
     ]
    }
   ],
   "source": [
    "# Merge des datafrma Complet_df et Volaille_df:\n",
    "Complet_df = pd.merge(Complet_df, Volaille_df, on=\"c_zone\", how=\"outer\")\n",
    "Complet_df.info()"
   ]
  },
  {
   "cell_type": "markdown",
   "metadata": {},
   "source": [
    "Il y a beaucoup de données manquantes (40 zones sont concernées, elles n'ont pas de donées dans le dataframe Volaille_df):\n",
    "* République démocratique populaire lao\n",
    "* Libye\n",
    "* Liechtenstein\n",
    "* Îles Marshall\n",
    "* Bahreïn\n",
    "* Maldives\n",
    "* Monaco\n",
    "* Montserrat\n",
    "* Micronésie (États fédérés de)\n",
    "* Nauru\n",
    "* Papouasie-Nouvelle-Guinée\n",
    "* Bermudes\n",
    "* Porto Rico\n",
    "* Érythrée\n",
    "* Qatar\n",
    "* Bhoutan\n",
    "* Palaos\n",
    "* Saint-Marin\n",
    "* Seychelles\n",
    "* Singapour\n",
    "* Somalie\n",
    "* République arabe syrienne\n",
    "* Tonga\n",
    "* Aruba\n",
    "* Monaco\n",
    "* Îles Turques-et-Caïques\n",
    "* Tuvalu\n",
    "* Ouzbékistan\n",
    "* Îles Vierges britanniques\n",
    "* République démocratique du Congo\n",
    "* Anguilla\n",
    "* Brunéi Darussalam\n",
    "* Soudan du Sud\n",
    "* Burundi\n",
    "* Palestine\n",
    "* Îles Caïmanes\n",
    "* Comores\n",
    "* Îles Cook\n",
    "* Andorre\n",
    "* Guinée équatoriale\n",
    "* Djibouti\n",
    "* Groenland\n",
    "\n",
    "Dans la majorité des cas il s'agit de petites nations dépendant d'autres plus grandes. La déscision est prise de supprimer les lignes contenant au moins un NaN mais nous perdons tout de même des informations, il pourrait être interressant de completer notre jeux de données."
   ]
  },
  {
   "cell_type": "code",
   "execution_count": 35,
   "metadata": {},
   "outputs": [],
   "source": [
    "# Suppression des données manquantes:\n",
    "Complet_df = Complet_df.dropna()\n",
    "\n",
    "# Suppression et renommage des colonnes zones:\n",
    "Complet_df.drop([\"zone_y\"],axis=1, inplace=True)\n",
    "Complet_df.rename(columns={\"zone_x\": \"zone\"},inplace=True)\n"
   ]
  },
  {
   "cell_type": "code",
   "execution_count": 36,
   "metadata": {},
   "outputs": [],
   "source": [
    "# Normalisation des imports:\n",
    "Complet_df[\"import_volaille_(t/hab)\"] = (Complet_df[\"import_volaille_(kt)\"]*1000)/Complet_df[\"pop17\"]\n",
    "Complet_df.drop([\"import_volaille_(kt)\"],axis=1, inplace=True)\n",
    "\n",
    "# Normalisation de la production:\n",
    "Complet_df[\"production_volaille_(t/hab)\"] = (Complet_df[\"production_volaille_(kt)\"]*1000)/Complet_df[\"pop17\"]\n",
    "Complet_df.drop([\"production_volaille_(kt)\"],axis=1, inplace=True)\n",
    "\n",
    "# Normalisation disponibilite interrieure:\n",
    "Complet_df[\"dispo_int_volaille_(t/hab)\"] = (Complet_df[\"dispo_int_volaille_(kt)\"]*1000)/Complet_df[\"pop17\"]\n",
    "Complet_df.drop([\"dispo_int_volaille_(kt)\"],axis=1, inplace=True)\n",
    "\n",
    "Complet_df.drop([\"pop17\"],axis=1, inplace=True)\n",
    "Complet_df.drop([\"dispo_alim_volaille_(kg/hab/an)\"],axis=1, inplace=True)"
   ]
  },
  {
   "cell_type": "code",
   "execution_count": 37,
   "metadata": {},
   "outputs": [],
   "source": [
    "# Ajout colonne ratio disponibilite en proteine de volaille sur disponibilite en protein animale:\n",
    "Complet_df[\"ratio_prot_volaille/prot_animal\"] = Complet_df[\"dispo_prot_volaille_(g/hab/j)\"]/Complet_df[\"dispo_prot_animal_(g/hab/j)\"]"
   ]
  },
  {
   "cell_type": "markdown",
   "metadata": {},
   "source": [
    "En dernier on ajoute une colone avec le code ISO des pays pour pouvoir utiliser des représentation graphique sous forme de cartes"
   ]
  },
  {
   "cell_type": "code",
   "execution_count": 38,
   "metadata": {},
   "outputs": [
    {
     "name": "stdout",
     "output_type": "stream",
     "text": [
      "<class 'pandas.core.frame.DataFrame'>\n",
      "Int64Index: 175 entries, 0 to 174\n",
      "Data columns (total 13 columns):\n",
      " #   Column                           Non-Null Count  Dtype  \n",
      "---  ------                           --------------  -----  \n",
      " 0   c_zone                           175 non-null    object \n",
      " 1   zone                             167 non-null    object \n",
      " 2   evo_pop                          167 non-null    float64\n",
      " 3   pib/hab                          167 non-null    float64\n",
      " 4   dispo_prot_(g/hab/j)             167 non-null    float64\n",
      " 5   dispo_prot_animal_(g/hab/j)      167 non-null    float64\n",
      " 6   ratio_prot_animal/prot_tot       167 non-null    float64\n",
      " 7   dispo_prot_volaille_(g/hab/j)    167 non-null    float64\n",
      " 8   import_volaille_(t/hab)          167 non-null    float64\n",
      " 9   production_volaille_(t/hab)      167 non-null    float64\n",
      " 10  dispo_int_volaille_(t/hab)       167 non-null    float64\n",
      " 11  ratio_prot_volaille/prot_animal  167 non-null    float64\n",
      " 12  iso3                             174 non-null    object \n",
      "dtypes: float64(10), object(3)\n",
      "memory usage: 19.1+ KB\n"
     ]
    }
   ],
   "source": [
    "#Ajout d'une colonne de code ISO\n",
    "Complet_df = pd.merge(Complet_df, Code_Pays_df, on=\"c_zone\", how=\"outer\")\n",
    "Complet_df.info()"
   ]
  },
  {
   "cell_type": "markdown",
   "metadata": {},
   "source": [
    "Les valeurs nulles dans correpsondent à des code IS3 ou FAO de pays qui ont été supprimés préalablement par manque de données, on ne les garde pas."
   ]
  },
  {
   "cell_type": "code",
   "execution_count": 39,
   "metadata": {},
   "outputs": [
    {
     "name": "stdout",
     "output_type": "stream",
     "text": [
      "<class 'pandas.core.frame.DataFrame'>\n",
      "Int64Index: 167 entries, 0 to 166\n",
      "Data columns (total 13 columns):\n",
      " #   Column                           Non-Null Count  Dtype  \n",
      "---  ------                           --------------  -----  \n",
      " 0   c_zone                           167 non-null    object \n",
      " 1   zone                             167 non-null    object \n",
      " 2   evo_pop                          167 non-null    float64\n",
      " 3   pib/hab                          167 non-null    float64\n",
      " 4   dispo_prot_(g/hab/j)             167 non-null    float64\n",
      " 5   dispo_prot_animal_(g/hab/j)      167 non-null    float64\n",
      " 6   ratio_prot_animal/prot_tot       167 non-null    float64\n",
      " 7   dispo_prot_volaille_(g/hab/j)    167 non-null    float64\n",
      " 8   import_volaille_(t/hab)          167 non-null    float64\n",
      " 9   production_volaille_(t/hab)      167 non-null    float64\n",
      " 10  dispo_int_volaille_(t/hab)       167 non-null    float64\n",
      " 11  ratio_prot_volaille/prot_animal  167 non-null    float64\n",
      " 12  iso3                             167 non-null    object \n",
      "dtypes: float64(10), object(3)\n",
      "memory usage: 18.3+ KB\n"
     ]
    }
   ],
   "source": [
    "# Suppression des données manquantes:\n",
    "Complet_df = Complet_df.dropna()\n",
    "\n",
    "Complet_df.info()"
   ]
  },
  {
   "cell_type": "code",
   "execution_count": 40,
   "metadata": {},
   "outputs": [],
   "source": [
    "# Export de Complet_df en CSV :\n",
    "#Complet_df.to_csv(\"C:\\\\Users\\\\leroc\\\\Dropbox\\\\2020 - 2021 OpenClassrooms, MOOC et conférences\\\\09 - Produisez une étude de marché avec R ou Python\\\\Complet_data.csv\",\n",
    "#                index = False,\n",
    "#                header=True)"
   ]
  }
 ],
 "metadata": {
  "interpreter": {
   "hash": "404051c4332f3092e5aa7fdae49aa9cc513071843651b7fc7d1945385bcec5c0"
  },
  "kernelspec": {
   "display_name": "Python 3.8.8 64-bit ('base': conda)",
   "language": "python",
   "name": "python3"
  },
  "language_info": {
   "codemirror_mode": {
    "name": "ipython",
    "version": 3
   },
   "file_extension": ".py",
   "mimetype": "text/x-python",
   "name": "python",
   "nbconvert_exporter": "python",
   "pygments_lexer": "ipython3",
   "version": "3.8.8"
  },
  "orig_nbformat": 4
 },
 "nbformat": 4,
 "nbformat_minor": 2
}
